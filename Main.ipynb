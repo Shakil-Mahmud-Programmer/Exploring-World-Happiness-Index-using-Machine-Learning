{
 "cells": [
  {
   "cell_type": "markdown",
   "metadata": {},
   "source": [
    "**Importing Module**"
   ]
  },
  {
   "cell_type": "code",
   "execution_count": 2,
   "metadata": {},
   "outputs": [],
   "source": [
    "import pandas as pd\n",
    "import numpy as np\n",
    "import pickle\n",
    "import sklearn as sl\n",
    "from sklearn.linear_model import LinearRegression\n",
    "from sklearn.ensemble import RandomForestClassifier\n",
    "from sklearn.tree import DecisionTreeClassifier \n",
    "from sklearn.model_selection import train_test_split\n",
    "from sklearn.metrics import mean_absolute_error, mean_squared_error, r2_score,accuracy_score\n",
    "from matplotlib import pyplot as plt\n",
    "import tabulate"
   ]
  },
  {
   "cell_type": "markdown",
   "metadata": {},
   "source": [
    "**Load uncleaned Dataset**"
   ]
  },
  {
   "cell_type": "code",
   "execution_count": 3,
   "metadata": {},
   "outputs": [],
   "source": [
    "data_2015 = pd.read_csv(\"Dataset/2015.csv\")\n",
    "data_2016 = pd.read_csv(\"Dataset/2016.csv\")\n",
    "data_2017 = pd.read_csv(\"Dataset/2017.csv\")\n",
    "data_2018 = pd.read_csv(\"Dataset/2018.csv\")\n",
    "data_2019 = pd.read_csv(\"Dataset/2019.csv\")\n",
    "data_2022 = pd.read_csv(\"Dataset/2022.csv\")"
   ]
  },
  {
   "cell_type": "markdown",
   "metadata": {},
   "source": [
    "**Data Cleaning & Preprocessing**"
   ]
  },
  {
   "cell_type": "markdown",
   "metadata": {},
   "source": [
    "Cleaning GDP per Capita Column"
   ]
  },
  {
   "cell_type": "code",
   "execution_count": 4,
   "metadata": {},
   "outputs": [],
   "source": [
    "temp_GDP = []\n",
    "for i in data_2022['GDP per Capita']:\n",
    "    temp_GDP.append(float(str(i).replace(',','.')))"
   ]
  },
  {
   "cell_type": "markdown",
   "metadata": {},
   "source": [
    "Cleaning Social Support Column"
   ]
  },
  {
   "cell_type": "code",
   "execution_count": 5,
   "metadata": {},
   "outputs": [],
   "source": [
    "temp_Social = []\n",
    "for i in data_2022['Social Support']:\n",
    "    temp_Social.append(float(str(i).replace(',','.')))"
   ]
  },
  {
   "cell_type": "markdown",
   "metadata": {},
   "source": [
    "Cleaning Healthy Life Expectancy Column"
   ]
  },
  {
   "cell_type": "code",
   "execution_count": 6,
   "metadata": {},
   "outputs": [],
   "source": [
    "temp_Healthy = []\n",
    "for i in data_2022['Healthy Life Expectancy']:\n",
    "    temp_Healthy.append(float(str(i).replace(',','.')))"
   ]
  },
  {
   "cell_type": "markdown",
   "metadata": {},
   "source": [
    "Cleaning Freedom Column"
   ]
  },
  {
   "cell_type": "code",
   "execution_count": 7,
   "metadata": {},
   "outputs": [],
   "source": [
    "temp_Freedom = []\n",
    "for i in data_2022['Freedom']:\n",
    "    temp_Freedom.append(float(str(i).replace(',','.')))"
   ]
  },
  {
   "cell_type": "markdown",
   "metadata": {},
   "source": [
    "Cleaning Govt. Corruption Column"
   ]
  },
  {
   "cell_type": "code",
   "execution_count": 8,
   "metadata": {},
   "outputs": [
    {
     "data": {
      "text/plain": [
       "[0.534,\n",
       " 0.532,\n",
       " 0.191,\n",
       " 0.461,\n",
       " 0.419,\n",
       " 0.388,\n",
       " 0.512,\n",
       " 0.474,\n",
       " 0.143,\n",
       " 0.483,\n",
       " 0.329,\n",
       " 0.341,\n",
       " 0.408,\n",
       " 0.358,\n",
       " 0.368,\n",
       " 0.177,\n",
       " 0.329,\n",
       " 0.048,\n",
       " 0.204,\n",
       " 0.266,\n",
       " 0.155,\n",
       " 0.115,\n",
       " 0.102,\n",
       " 0.25,\n",
       " 0.18,\n",
       " 0.168,\n",
       " 0.587,\n",
       " 0.006,\n",
       " 0.149,\n",
       " 0.265,\n",
       " 0.059,\n",
       " 0.035,\n",
       " 0.166,\n",
       " 0.077,\n",
       " 0.025,\n",
       " 0.333,\n",
       " 0.051,\n",
       " 0.134,\n",
       " 0.115,\n",
       " 0.157,\n",
       " 0.062,\n",
       " 0.09,\n",
       " 0.088,\n",
       " 0.069,\n",
       " 0.212,\n",
       " 0.115,\n",
       " 0.0,\n",
       " 0.14,\n",
       " 0.212,\n",
       " 0.147,\n",
       " 0.064,\n",
       " 0.107,\n",
       " 0.24,\n",
       " 0.218,\n",
       " 0.076,\n",
       " 0.039,\n",
       " 0.085,\n",
       " 0.108,\n",
       " 0.176,\n",
       " 0.142,\n",
       " 0.026,\n",
       " 0.028,\n",
       " 0.053,\n",
       " 0.025,\n",
       " 0.282,\n",
       " 0.077,\n",
       " 0.006,\n",
       " 0.059,\n",
       " 0.179,\n",
       " 0.126,\n",
       " 0.064,\n",
       " 0.142,\n",
       " 0.059,\n",
       " 0.037,\n",
       " 0.077,\n",
       " 0.083,\n",
       " 0.105,\n",
       " 0.032,\n",
       " 0.213,\n",
       " 0.08,\n",
       " 0.383,\n",
       " 0.21,\n",
       " 0.304,\n",
       " 0.13,\n",
       " 0.021,\n",
       " 0.179,\n",
       " 0.047,\n",
       " 0.124,\n",
       " 0.031,\n",
       " 0.028,\n",
       " 0.046,\n",
       " 0.341,\n",
       " 0.103,\n",
       " 0.187,\n",
       " 0.184,\n",
       " 0.15,\n",
       " 0.08,\n",
       " 0.017,\n",
       " 0.146,\n",
       " 0.102,\n",
       " 0.2,\n",
       " 0.074,\n",
       " 0.081,\n",
       " 0.145,\n",
       " 0.208,\n",
       " 0.099,\n",
       " 0.046,\n",
       " 0.082,\n",
       " 0.116,\n",
       " 0.146,\n",
       " 0.056,\n",
       " 0.115,\n",
       " 0.126,\n",
       " 0.068,\n",
       " 0.23,\n",
       " 0.125,\n",
       " 0.066,\n",
       " 0.038,\n",
       " 0.082,\n",
       " 0.029,\n",
       " 0.112,\n",
       " 0.079,\n",
       " 0.042,\n",
       " 0.071,\n",
       " 0.154,\n",
       " 0.194,\n",
       " 0.079,\n",
       " 0.154,\n",
       " 0.254,\n",
       " 0.077,\n",
       " 0.136,\n",
       " 0.098,\n",
       " 0.138,\n",
       " 0.2,\n",
       " 0.132,\n",
       " 0.123,\n",
       " 0.083,\n",
       " 0.157,\n",
       " 0.27,\n",
       " 0.055,\n",
       " 0.018,\n",
       " 0.102,\n",
       " 0.544,\n",
       " 0.105,\n",
       " 0.034,\n",
       " 0.005]"
      ]
     },
     "execution_count": 8,
     "metadata": {},
     "output_type": "execute_result"
    }
   ],
   "source": [
    "temp_Govt = []\n",
    "for i in data_2022['Government Corruption']:\n",
    "    temp_Govt.append(float(str(i).replace(',','.')))\n",
    "temp_Govt"
   ]
  },
  {
   "cell_type": "markdown",
   "metadata": {},
   "source": [
    "Cleaning Generosity Column"
   ]
  },
  {
   "cell_type": "code",
   "execution_count": 9,
   "metadata": {},
   "outputs": [
    {
     "data": {
      "text/plain": [
       "[0.109,\n",
       " 0.188,\n",
       " 0.27,\n",
       " 0.147,\n",
       " 0.271,\n",
       " 0.12,\n",
       " 0.218,\n",
       " 0.217,\n",
       " 0.155,\n",
       " 0.245,\n",
       " 0.193,\n",
       " 0.258,\n",
       " 0.19,\n",
       " 0.163,\n",
       " 0.217,\n",
       " 0.22,\n",
       " 0.289,\n",
       " 0.158,\n",
       " 0.049,\n",
       " 0.07,\n",
       " 0.199,\n",
       " 0.118,\n",
       " 0.089,\n",
       " 0.204,\n",
       " 0.078,\n",
       " 0.075,\n",
       " 0.163,\n",
       " 0.039,\n",
       " 0.101,\n",
       " 0.103,\n",
       " 0.085,\n",
       " 0.309,\n",
       " 0.174,\n",
       " 0.053,\n",
       " 0.118,\n",
       " 0.123,\n",
       " 0.049,\n",
       " 0.131,\n",
       " 0.112,\n",
       " 0.134,\n",
       " 0.123,\n",
       " 0.075,\n",
       " 0.219,\n",
       " 0.124,\n",
       " 0.168,\n",
       " 0.092,\n",
       " 0.109,\n",
       " 0.124,\n",
       " 0.089,\n",
       " 0.087,\n",
       " 0.078,\n",
       " 0.131,\n",
       " 0.283,\n",
       " 0.007,\n",
       " 0.202,\n",
       " 0.016,\n",
       " 0.081,\n",
       " 0.015,\n",
       " 0.111,\n",
       " 0.107,\n",
       " 0.321,\n",
       " 0.102,\n",
       " 0.08,\n",
       " 0.208,\n",
       " 0.04,\n",
       " 0.087,\n",
       " 0.244,\n",
       " 0.247,\n",
       " 0.084,\n",
       " 0.213,\n",
       " 0.112,\n",
       " 0.099,\n",
       " 0.171,\n",
       " 0.09,\n",
       " 0.135,\n",
       " 0.08,\n",
       " 0.143,\n",
       " 0.314,\n",
       " 0.13,\n",
       " 0.117,\n",
       " 0.147,\n",
       " 0.054,\n",
       " 0.118,\n",
       " 0.237,\n",
       " 0.123,\n",
       " 0.106,\n",
       " 0.468,\n",
       " 0.149,\n",
       " 0.215,\n",
       " 0.138,\n",
       " 0.089,\n",
       " 0.023,\n",
       " 0.388,\n",
       " 0.125,\n",
       " 0.197,\n",
       " 0.106,\n",
       " 0.178,\n",
       " 0.188,\n",
       " 0.13,\n",
       " 0.02,\n",
       " 0.185,\n",
       " 0.152,\n",
       " 0.143,\n",
       " 0.165,\n",
       " 0.0,\n",
       " 0.032,\n",
       " 0.147,\n",
       " 0.225,\n",
       " 0.214,\n",
       " 0.241,\n",
       " 0.23,\n",
       " 0.087,\n",
       " 0.186,\n",
       " 0.166,\n",
       " 0.127,\n",
       " 0.195,\n",
       " 0.222,\n",
       " 0.175,\n",
       " 0.322,\n",
       " 0.029,\n",
       " 0.181,\n",
       " 0.073,\n",
       " 0.128,\n",
       " 0.067,\n",
       " 0.038,\n",
       " 0.452,\n",
       " 0.15,\n",
       " 0.143,\n",
       " 0.041,\n",
       " 0.182,\n",
       " 0.205,\n",
       " 0.09,\n",
       " 0.088,\n",
       " 0.058,\n",
       " 0.174,\n",
       " 0.198,\n",
       " 0.203,\n",
       " 0.14,\n",
       " 0.248,\n",
       " 0.202,\n",
       " 0.076,\n",
       " 0.012,\n",
       " 0.187,\n",
       " 0.106,\n",
       " 0.082,\n",
       " 0.089]"
      ]
     },
     "execution_count": 9,
     "metadata": {},
     "output_type": "execute_result"
    }
   ],
   "source": [
    "temp_Generosity = []\n",
    "for i in data_2022['Generosity']:\n",
    "    temp_Generosity.append(float(str(i).replace(',','.')))\n",
    "temp_Generosity"
   ]
  },
  {
   "cell_type": "markdown",
   "metadata": {},
   "source": [
    "Cleaning Happiness Score Column"
   ]
  },
  {
   "cell_type": "code",
   "execution_count": 10,
   "metadata": {},
   "outputs": [
    {
     "data": {
      "text/plain": [
       "[7.821,\n",
       " 7.636,\n",
       " 7.557,\n",
       " 7.512,\n",
       " 7.415,\n",
       " 7.404,\n",
       " 7.384,\n",
       " 7.365,\n",
       " 7.364,\n",
       " 7.2,\n",
       " 7.163,\n",
       " 7.162,\n",
       " 7.041,\n",
       " 7.034,\n",
       " 7.025,\n",
       " 6.977,\n",
       " 6.943,\n",
       " 6.92,\n",
       " 6.805,\n",
       " 6.687,\n",
       " 6.647,\n",
       " 6.63,\n",
       " 6.582,\n",
       " 6.576,\n",
       " 6.523,\n",
       " 6.512,\n",
       " 6.48,\n",
       " 6.477,\n",
       " 6.476,\n",
       " 6.474,\n",
       " 6.467,\n",
       " 6.455,\n",
       " 6.447,\n",
       " 6.446,\n",
       " 6.391,\n",
       " 6.341,\n",
       " 6.309,\n",
       " 6.293,\n",
       " 6.262,\n",
       " 6.234,\n",
       " 6.221,\n",
       " 6.18,\n",
       " 6.178,\n",
       " 6.172,\n",
       " 6.165,\n",
       " 6.128,\n",
       " 6.125,\n",
       " 6.123,\n",
       " 6.12,\n",
       " 6.106,\n",
       " 6.086,\n",
       " 6.071,\n",
       " 6.063,\n",
       " 6.039,\n",
       " 6.022,\n",
       " 6.016,\n",
       " 5.967,\n",
       " 5.948,\n",
       " 5.935,\n",
       " 5.904,\n",
       " 5.891,\n",
       " 5.857,\n",
       " 5.85,\n",
       " 5.828,\n",
       " 5.821,\n",
       " 5.781,\n",
       " 5.768,\n",
       " 5.761,\n",
       " 5.737,\n",
       " 5.711,\n",
       " 5.6,\n",
       " 5.585,\n",
       " 5.578,\n",
       " 5.559,\n",
       " 5.547,\n",
       " 5.533,\n",
       " 5.485,\n",
       " 5.474,\n",
       " 5.467,\n",
       " 5.459,\n",
       " 5.425,\n",
       " 5.399,\n",
       " 5.377,\n",
       " 5.377,\n",
       " 5.371,\n",
       " 5.33,\n",
       " 5.24,\n",
       " 5.235,\n",
       " 5.199,\n",
       " 5.199,\n",
       " 5.194,\n",
       " 5.173,\n",
       " 5.164,\n",
       " 5.155,\n",
       " 5.14,\n",
       " 5.122,\n",
       " 5.122,\n",
       " 5.084,\n",
       " 5.075,\n",
       " 5.06,\n",
       " 5.048,\n",
       " 5.048,\n",
       " 5.046,\n",
       " 5.003,\n",
       " 4.973,\n",
       " 4.958,\n",
       " 4.941,\n",
       " 4.925,\n",
       " 4.891,\n",
       " 4.888,\n",
       " 4.872,\n",
       " 4.744,\n",
       " 4.67,\n",
       " 4.64,\n",
       " 4.623,\n",
       " 4.609,\n",
       " 4.603,\n",
       " 4.552,\n",
       " 4.543,\n",
       " 4.516,\n",
       " 4.516,\n",
       " 4.483,\n",
       " 4.479,\n",
       " 4.459,\n",
       " 4.396,\n",
       " 4.394,\n",
       " 4.362,\n",
       " 4.339,\n",
       " 4.288,\n",
       " 4.251,\n",
       " 4.241,\n",
       " 4.197,\n",
       " 4.153,\n",
       " 4.152,\n",
       " 4.112,\n",
       " 3.777,\n",
       " 3.76,\n",
       " 3.75,\n",
       " 3.702,\n",
       " 3.574,\n",
       " 3.512,\n",
       " 3.471,\n",
       " 3.268,\n",
       " 2.995,\n",
       " 2.955,\n",
       " 2.404]"
      ]
     },
     "execution_count": 10,
     "metadata": {},
     "output_type": "execute_result"
    }
   ],
   "source": [
    "temp_Score = []\n",
    "for i in data_2022['Happiness Score']:\n",
    "    temp_Score.append(float(str(i).replace(',','.')))\n",
    "temp_Score"
   ]
  },
  {
   "cell_type": "markdown",
   "metadata": {},
   "source": [
    "**Merge the Columns**"
   ]
  },
  {
   "cell_type": "code",
   "execution_count": 11,
   "metadata": {},
   "outputs": [],
   "source": [
    "data_2022 = pd.DataFrame(data={'Year':data_2022.Year,'Country':data_2022.Country,\n",
    "'GDP per Capita':temp_GDP,'Social Support':temp_Social,\n",
    "'Healthy Life Expectancy':temp_Healthy,\n",
    "'Freedom':temp_Freedom,'Government Corruption':temp_Govt,\n",
    "'Generosity':temp_Generosity,'Happiness Score':temp_Score})\n",
    "dataframes = [data_2015,data_2016,data_2017,data_2018,data_2019,data_2022]"
   ]
  },
  {
   "cell_type": "markdown",
   "metadata": {},
   "source": [
    "**Concat Datatables**"
   ]
  },
  {
   "cell_type": "code",
   "execution_count": 12,
   "metadata": {},
   "outputs": [],
   "source": [
    "df = pd.concat(dataframes, axis=0, ignore_index=True)"
   ]
  },
  {
   "cell_type": "markdown",
   "metadata": {},
   "source": [
    "**Count Null Values in Each Column**"
   ]
  },
  {
   "cell_type": "code",
   "execution_count": 13,
   "metadata": {},
   "outputs": [
    {
     "data": {
      "text/plain": [
       "Year                       0\n",
       "Country                    0\n",
       "GDP per Capita             0\n",
       "Social Support             0\n",
       "Healthy Life Expectancy    0\n",
       "Freedom                    0\n",
       "Government Corruption      1\n",
       "Generosity                 0\n",
       "Happiness Score            0\n",
       "dtype: int64"
      ]
     },
     "execution_count": 13,
     "metadata": {},
     "output_type": "execute_result"
    }
   ],
   "source": [
    "df.isna().sum()"
   ]
  },
  {
   "cell_type": "markdown",
   "metadata": {},
   "source": [
    "**Drop Null values**"
   ]
  },
  {
   "cell_type": "code",
   "execution_count": 14,
   "metadata": {},
   "outputs": [
    {
     "data": {
      "text/plain": [
       "Year                       0\n",
       "Country                    0\n",
       "GDP per Capita             0\n",
       "Social Support             0\n",
       "Healthy Life Expectancy    0\n",
       "Freedom                    0\n",
       "Government Corruption      0\n",
       "Generosity                 0\n",
       "Happiness Score            0\n",
       "dtype: int64"
      ]
     },
     "execution_count": 14,
     "metadata": {},
     "output_type": "execute_result"
    }
   ],
   "source": [
    "df.dropna(inplace=True)\n",
    "df.isna().sum()"
   ]
  },
  {
   "cell_type": "markdown",
   "metadata": {},
   "source": [
    "**Save the Preprocessed Dataset for Further Use**"
   ]
  },
  {
   "cell_type": "code",
   "execution_count": 15,
   "metadata": {},
   "outputs": [],
   "source": [
    "df.to_csv(\"Dataset/data.csv\",index=False)"
   ]
  },
  {
   "cell_type": "markdown",
   "metadata": {},
   "source": [
    "**Check the Columns**"
   ]
  },
  {
   "cell_type": "code",
   "execution_count": 16,
   "metadata": {},
   "outputs": [],
   "source": [
    "df['Country'] = df['Country'].astype(str)"
   ]
  },
  {
   "cell_type": "code",
   "execution_count": 17,
   "metadata": {},
   "outputs": [
    {
     "data": {
      "text/plain": [
       "(927, 9)"
      ]
     },
     "execution_count": 17,
     "metadata": {},
     "output_type": "execute_result"
    }
   ],
   "source": [
    "df.shape"
   ]
  },
  {
   "cell_type": "markdown",
   "metadata": {},
   "source": [
    "**Prepare Columns for Training**"
   ]
  },
  {
   "cell_type": "code",
   "execution_count": 18,
   "metadata": {},
   "outputs": [],
   "source": [
    "X=df.drop(['Year','Country','Happiness Score'],axis=1)\n",
    "y= df['Happiness Score']"
   ]
  },
  {
   "cell_type": "markdown",
   "metadata": {},
   "source": [
    "**Split Dataset into Train & Test Segment**"
   ]
  },
  {
   "cell_type": "code",
   "execution_count": 19,
   "metadata": {},
   "outputs": [],
   "source": [
    "X_train, X_test, y_train, y_test = train_test_split(X, y, test_size=0.2)"
   ]
  },
  {
   "cell_type": "markdown",
   "metadata": {},
   "source": [
    "**Train the Model**"
   ]
  },
  {
   "cell_type": "code",
   "execution_count": 20,
   "metadata": {},
   "outputs": [],
   "source": [
    "reg_model = LinearRegression()\n",
    "reg_model.fit(X_train,y_train)\n",
    "y_pred = reg_model.predict(X_test)"
   ]
  },
  {
   "cell_type": "markdown",
   "metadata": {},
   "source": [
    "**Save Model**"
   ]
  },
  {
   "cell_type": "code",
   "execution_count": 21,
   "metadata": {},
   "outputs": [],
   "source": [
    "model_filename = 'linear_regression_model.pkl'\n",
    "with open(model_filename, 'wb') as model_file:\n",
    "    pickle.dump(reg_model, model_file)"
   ]
  },
  {
   "cell_type": "markdown",
   "metadata": {},
   "source": [
    "**Different Types of Error Parameter**"
   ]
  },
  {
   "cell_type": "code",
   "execution_count": 22,
   "metadata": {},
   "outputs": [
    {
     "name": "stdout",
     "output_type": "stream",
     "text": [
      "Mean Absolute Error (MAE): 0.4\n",
      "Mean Squared Error (MSE): 0.25\n",
      "Root Mean Squared Error (RMSE): 0.5\n",
      "R-squared (R2): 0.79\n"
     ]
    }
   ],
   "source": [
    "mae = mean_absolute_error(y_test, y_pred)\n",
    "mse = mean_squared_error(y_test, y_pred)\n",
    "rmse = np.sqrt(mse)\n",
    "r2 = r2_score(y_test, y_pred)\n",
    "\n",
    "print(f\"Mean Absolute Error (MAE): {round(mae,2)}\")\n",
    "print(f\"Mean Squared Error (MSE): {round(mse,2)}\")\n",
    "print(f\"Root Mean Squared Error (RMSE): {round(rmse,2)}\")\n",
    "print(f\"R-squared (R2): {round(r2,2)}\")"
   ]
  },
  {
   "cell_type": "markdown",
   "metadata": {},
   "source": [
    "**Load Saved Model**"
   ]
  },
  {
   "cell_type": "code",
   "execution_count": 23,
   "metadata": {},
   "outputs": [],
   "source": [
    "model_path = 'linear_regression_model.pkl'  \n",
    "with open(model_path, 'rb') as filed_model:\n",
    "    saved_model = pickle.load(filed_model)"
   ]
  },
  {
   "cell_type": "code",
   "execution_count": 24,
   "metadata": {},
   "outputs": [
    {
     "name": "stdout",
     "output_type": "stream",
     "text": [
      "coefficients [0.81839946 0.87371203 1.29901897 1.32820865 0.83870228 0.78328429]\n"
     ]
    }
   ],
   "source": [
    "# Coefficients for each independent variable\n",
    "coefficients = reg_model.coef_\n",
    "\n",
    "print(f'coefficients {coefficients}')"
   ]
  },
  {
   "cell_type": "markdown",
   "metadata": {},
   "source": [
    "**Visualize Model Accuracy**"
   ]
  },
  {
   "cell_type": "code",
   "execution_count": 25,
   "metadata": {},
   "outputs": [
    {
     "name": "stderr",
     "output_type": "stream",
     "text": [
      "C:\\Users\\Shakil Mahmud\\AppData\\Local\\Temp\\ipykernel_9712\\3737825262.py:2: MatplotlibDeprecationWarning: The seaborn styles shipped by Matplotlib are deprecated since 3.6, as they no longer correspond to the styles shipped by seaborn. However, they will remain available as 'seaborn-v0_8-<style>'. Alternatively, directly use the seaborn API instead.\n",
      "  plt.style.use('seaborn')\n"
     ]
    },
    {
     "data": {
      "image/png": "[encoded data removed]",
      "text/plain": [
       "<Figure size 800x550 with 1 Axes>"
      ]
     },
     "metadata": {},
     "output_type": "display_data"
    }
   ],
   "source": [
    "X_axis = [i for i in range(len(y_pred))]\n",
    "plt.style.use('seaborn')\n",
    "plt.scatter(X_axis,y_test, color=\"deepskyblue\",label='Actual',marker='o')\n",
    "plt.scatter(X_axis,y_pred,color='tomato', label='Predicted', marker='o')\n",
    "plt.xlabel('X values')\n",
    "plt.ylabel('Y Test & Predicted')\n",
    "plt.legend()\n",
    "plt.savefig(\"plot.png\")\n",
    "plt.show()"
   ]
  },
  {
   "cell_type": "markdown",
   "metadata": {},
   "source": [
    "**Random Forest Classifier**"
   ]
  },
  {
   "cell_type": "code",
   "execution_count": 26,
   "metadata": {},
   "outputs": [],
   "source": [
    "X_ran = df.drop(columns=[\"Year\",\"Country\" , \"Happiness Score\"],axis=1)\n",
    "y_ran = round(df['Happiness Score'],0)"
   ]
  },
  {
   "cell_type": "code",
   "execution_count": 27,
   "metadata": {},
   "outputs": [],
   "source": [
    "X_ran_train, X_ran_test,y_ran_train, y_ran_test,=train_test_split(X_ran,y_ran,test_size=0.2)"
   ]
  },
  {
   "cell_type": "code",
   "execution_count": 28,
   "metadata": {},
   "outputs": [
    {
     "data": {
      "text/html": [
       "<style>#sk-container-id-1 {color: black;}#sk-container-id-1 pre{padding: 0;}#sk-container-id-1 div.sk-toggleable {background-color: white;}#sk-container-id-1 label.sk-toggleable__label {cursor: pointer;display: block;width: 100%;margin-bottom: 0;padding: 0.3em;box-sizing: border-box;text-align: center;}#sk-container-id-1 label.sk-toggleable__label-arrow:before {content: \"▸\";float: left;margin-right: 0.25em;color: #696969;}#sk-container-id-1 label.sk-toggleable__label-arrow:hover:before {color: black;}#sk-container-id-1 div.sk-estimator:hover label.sk-toggleable__label-arrow:before {color: black;}#sk-container-id-1 div.sk-toggleable__content {max-height: 0;max-width: 0;overflow: hidden;text-align: left;background-color: #f0f8ff;}#sk-container-id-1 div.sk-toggleable__content pre {margin: 0.2em;color: black;border-radius: 0.25em;background-color: #f0f8ff;}#sk-container-id-1 input.sk-toggleable__control:checked~div.sk-toggleable__content {max-height: 200px;max-width: 100%;overflow: auto;}#sk-container-id-1 input.sk-toggleable__control:checked~label.sk-toggleable__label-arrow:before {content: \"▾\";}#sk-container-id-1 div.sk-estimator input.sk-toggleable__control:checked~label.sk-toggleable__label {background-color: #d4ebff;}#sk-container-id-1 div.sk-label input.sk-toggleable__control:checked~label.sk-toggleable__label {background-color: #d4ebff;}#sk-container-id-1 input.sk-hidden--visually {border: 0;clip: rect(1px 1px 1px 1px);clip: rect(1px, 1px, 1px, 1px);height: 1px;margin: -1px;overflow: hidden;padding: 0;position: absolute;width: 1px;}#sk-container-id-1 div.sk-estimator {font-family: monospace;background-color: #f0f8ff;border: 1px dotted black;border-radius: 0.25em;box-sizing: border-box;margin-bottom: 0.5em;}#sk-container-id-1 div.sk-estimator:hover {background-color: #d4ebff;}#sk-container-id-1 div.sk-parallel-item::after {content: \"\";width: 100%;border-bottom: 1px solid gray;flex-grow: 1;}#sk-container-id-1 div.sk-label:hover label.sk-toggleable__label {background-color: #d4ebff;}#sk-container-id-1 div.sk-serial::before {content: \"\";position: absolute;border-left: 1px solid gray;box-sizing: border-box;top: 0;bottom: 0;left: 50%;z-index: 0;}#sk-container-id-1 div.sk-serial {display: flex;flex-direction: column;align-items: center;background-color: white;padding-right: 0.2em;padding-left: 0.2em;position: relative;}#sk-container-id-1 div.sk-item {position: relative;z-index: 1;}#sk-container-id-1 div.sk-parallel {display: flex;align-items: stretch;justify-content: center;background-color: white;position: relative;}#sk-container-id-1 div.sk-item::before, #sk-container-id-1 div.sk-parallel-item::before {content: \"\";position: absolute;border-left: 1px solid gray;box-sizing: border-box;top: 0;bottom: 0;left: 50%;z-index: -1;}#sk-container-id-1 div.sk-parallel-item {display: flex;flex-direction: column;z-index: 1;position: relative;background-color: white;}#sk-container-id-1 div.sk-parallel-item:first-child::after {align-self: flex-end;width: 50%;}#sk-container-id-1 div.sk-parallel-item:last-child::after {align-self: flex-start;width: 50%;}#sk-container-id-1 div.sk-parallel-item:only-child::after {width: 0;}#sk-container-id-1 div.sk-dashed-wrapped {border: 1px dashed gray;margin: 0 0.4em 0.5em 0.4em;box-sizing: border-box;padding-bottom: 0.4em;background-color: white;}#sk-container-id-1 div.sk-label label {font-family: monospace;font-weight: bold;display: inline-block;line-height: 1.2em;}#sk-container-id-1 div.sk-label-container {text-align: center;}#sk-container-id-1 div.sk-container {/* jupyter's `normalize.less` sets `[hidden] { display: none; }` but bootstrap.min.css set `[hidden] { display: none !important; }` so we also need the `!important` here to be able to override the default hidden behavior on the sphinx rendered scikit-learn.org. See: https://github.com/scikit-learn/scikit-learn/issues/21755 */display: inline-block !important;position: relative;}#sk-container-id-1 div.sk-text-repr-fallback {display: none;}</style><div id=\"sk-container-id-1\" class=\"sk-top-container\"><div class=\"sk-text-repr-fallback\"><pre>RandomForestClassifier()</pre><b>In a Jupyter environment, please rerun this cell to show the HTML representation or trust the notebook. <br />On GitHub, the HTML representation is unable to render, please try loading this page with nbviewer.org.</b></div><div class=\"sk-container\" hidden><div class=\"sk-item\"><div class=\"sk-estimator sk-toggleable\"><input class=\"sk-toggleable__control sk-hidden--visually\" id=\"sk-estimator-id-1\" type=\"checkbox\" checked><label for=\"sk-estimator-id-1\" class=\"sk-toggleable__label sk-toggleable__label-arrow\">RandomForestClassifier</label><div class=\"sk-toggleable__content\"><pre>RandomForestClassifier()</pre></div></div></div></div></div>"
      ],
      "text/plain": [
       "RandomForestClassifier()"
      ]
     },
     "execution_count": 28,
     "metadata": {},
     "output_type": "execute_result"
    }
   ],
   "source": [
    "ran_model = RandomForestClassifier()\n",
    "ran_model.fit(X_ran_train,y_ran_train)"
   ]
  },
  {
   "cell_type": "code",
   "execution_count": 29,
   "metadata": {},
   "outputs": [
    {
     "data": {
      "text/plain": [
       "array([0.20085645, 0.15588402, 0.20352489, 0.15214148, 0.15744884,\n",
       "       0.13014432])"
      ]
     },
     "execution_count": 29,
     "metadata": {},
     "output_type": "execute_result"
    }
   ],
   "source": [
    "ran_model.feature_importances_"
   ]
  },
  {
   "cell_type": "code",
   "execution_count": 30,
   "metadata": {},
   "outputs": [
    {
     "data": {
      "text/plain": [
       "0.6505376344086021"
      ]
     },
     "execution_count": 30,
     "metadata": {},
     "output_type": "execute_result"
    }
   ],
   "source": [
    "y_ran_pred=ran_model.predict(X_ran_test)\n",
    "accuracy_ran = accuracy_score(y_ran_test,y_ran_pred)\n",
    "accuracy_ran"
   ]
  },
  {
   "cell_type": "code",
   "execution_count": 31,
   "metadata": {},
   "outputs": [
    {
     "name": "stdout",
     "output_type": "stream",
     "text": [
      "MSE: 0.3763440860215054 MAE:0.43010752688172044\n"
     ]
    }
   ],
   "source": [
    "mae_ran = mean_absolute_error(y_ran_test, y_ran_pred)\n",
    "mse_ran = mean_squared_error(y_ran_test, y_ran_pred)\n",
    "\n",
    "print(f'MSE: {mae_ran} MAE:{mse_ran}')"
   ]
  },
  {
   "cell_type": "code",
   "execution_count": 32,
   "metadata": {},
   "outputs": [
    {
     "name": "stderr",
     "output_type": "stream",
     "text": [
      "C:\\Users\\Shakil Mahmud\\AppData\\Local\\Temp\\ipykernel_9712\\945303046.py:1: MatplotlibDeprecationWarning: The seaborn styles shipped by Matplotlib are deprecated since 3.6, as they no longer correspond to the styles shipped by seaborn. However, they will remain available as 'seaborn-v0_8-<style>'. Alternatively, directly use the seaborn API instead.\n",
      "  plt.style.use('seaborn')\n"
     ]
    },
    {
     "data": {
      "image/png": "[encoded data removed]",
      "text/plain": [
       "<Figure size 800x550 with 1 Axes>"
      ]
     },
     "metadata": {},
     "output_type": "display_data"
    }
   ],
   "source": [
    "plt.style.use('seaborn')\n",
    "plt.scatter(X_axis,round(y_test,0), color=\"deepskyblue\",label='Actual',marker='o')\n",
    "plt.scatter(X_axis,y_ran_pred,color='tomato', label='Predicted', marker='o')\n",
    "plt.xlabel('X values')\n",
    "plt.ylabel('Y Test & Predicted')\n",
    "plt.legend()\n",
    "plt.savefig(\"plot.png\")\n",
    "plt.show()"
   ]
  },
  {
   "cell_type": "markdown",
   "metadata": {},
   "source": [
    "**Decision Tree Classifier**"
   ]
  },
  {
   "cell_type": "code",
   "execution_count": 33,
   "metadata": {},
   "outputs": [
    {
     "data": {
      "text/html": [
       "<style>#sk-container-id-2 {color: black;}#sk-container-id-2 pre{padding: 0;}#sk-container-id-2 div.sk-toggleable {background-color: white;}#sk-container-id-2 label.sk-toggleable__label {cursor: pointer;display: block;width: 100%;margin-bottom: 0;padding: 0.3em;box-sizing: border-box;text-align: center;}#sk-container-id-2 label.sk-toggleable__label-arrow:before {content: \"▸\";float: left;margin-right: 0.25em;color: #696969;}#sk-container-id-2 label.sk-toggleable__label-arrow:hover:before {color: black;}#sk-container-id-2 div.sk-estimator:hover label.sk-toggleable__label-arrow:before {color: black;}#sk-container-id-2 div.sk-toggleable__content {max-height: 0;max-width: 0;overflow: hidden;text-align: left;background-color: #f0f8ff;}#sk-container-id-2 div.sk-toggleable__content pre {margin: 0.2em;color: black;border-radius: 0.25em;background-color: #f0f8ff;}#sk-container-id-2 input.sk-toggleable__control:checked~div.sk-toggleable__content {max-height: 200px;max-width: 100%;overflow: auto;}#sk-container-id-2 input.sk-toggleable__control:checked~label.sk-toggleable__label-arrow:before {content: \"▾\";}#sk-container-id-2 div.sk-estimator input.sk-toggleable__control:checked~label.sk-toggleable__label {background-color: #d4ebff;}#sk-container-id-2 div.sk-label input.sk-toggleable__control:checked~label.sk-toggleable__label {background-color: #d4ebff;}#sk-container-id-2 input.sk-hidden--visually {border: 0;clip: rect(1px 1px 1px 1px);clip: rect(1px, 1px, 1px, 1px);height: 1px;margin: -1px;overflow: hidden;padding: 0;position: absolute;width: 1px;}#sk-container-id-2 div.sk-estimator {font-family: monospace;background-color: #f0f8ff;border: 1px dotted black;border-radius: 0.25em;box-sizing: border-box;margin-bottom: 0.5em;}#sk-container-id-2 div.sk-estimator:hover {background-color: #d4ebff;}#sk-container-id-2 div.sk-parallel-item::after {content: \"\";width: 100%;border-bottom: 1px solid gray;flex-grow: 1;}#sk-container-id-2 div.sk-label:hover label.sk-toggleable__label {background-color: #d4ebff;}#sk-container-id-2 div.sk-serial::before {content: \"\";position: absolute;border-left: 1px solid gray;box-sizing: border-box;top: 0;bottom: 0;left: 50%;z-index: 0;}#sk-container-id-2 div.sk-serial {display: flex;flex-direction: column;align-items: center;background-color: white;padding-right: 0.2em;padding-left: 0.2em;position: relative;}#sk-container-id-2 div.sk-item {position: relative;z-index: 1;}#sk-container-id-2 div.sk-parallel {display: flex;align-items: stretch;justify-content: center;background-color: white;position: relative;}#sk-container-id-2 div.sk-item::before, #sk-container-id-2 div.sk-parallel-item::before {content: \"\";position: absolute;border-left: 1px solid gray;box-sizing: border-box;top: 0;bottom: 0;left: 50%;z-index: -1;}#sk-container-id-2 div.sk-parallel-item {display: flex;flex-direction: column;z-index: 1;position: relative;background-color: white;}#sk-container-id-2 div.sk-parallel-item:first-child::after {align-self: flex-end;width: 50%;}#sk-container-id-2 div.sk-parallel-item:last-child::after {align-self: flex-start;width: 50%;}#sk-container-id-2 div.sk-parallel-item:only-child::after {width: 0;}#sk-container-id-2 div.sk-dashed-wrapped {border: 1px dashed gray;margin: 0 0.4em 0.5em 0.4em;box-sizing: border-box;padding-bottom: 0.4em;background-color: white;}#sk-container-id-2 div.sk-label label {font-family: monospace;font-weight: bold;display: inline-block;line-height: 1.2em;}#sk-container-id-2 div.sk-label-container {text-align: center;}#sk-container-id-2 div.sk-container {/* jupyter's `normalize.less` sets `[hidden] { display: none; }` but bootstrap.min.css set `[hidden] { display: none !important; }` so we also need the `!important` here to be able to override the default hidden behavior on the sphinx rendered scikit-learn.org. See: https://github.com/scikit-learn/scikit-learn/issues/21755 */display: inline-block !important;position: relative;}#sk-container-id-2 div.sk-text-repr-fallback {display: none;}</style><div id=\"sk-container-id-2\" class=\"sk-top-container\"><div class=\"sk-text-repr-fallback\"><pre>DecisionTreeClassifier()</pre><b>In a Jupyter environment, please rerun this cell to show the HTML representation or trust the notebook. <br />On GitHub, the HTML representation is unable to render, please try loading this page with nbviewer.org.</b></div><div class=\"sk-container\" hidden><div class=\"sk-item\"><div class=\"sk-estimator sk-toggleable\"><input class=\"sk-toggleable__control sk-hidden--visually\" id=\"sk-estimator-id-2\" type=\"checkbox\" checked><label for=\"sk-estimator-id-2\" class=\"sk-toggleable__label sk-toggleable__label-arrow\">DecisionTreeClassifier</label><div class=\"sk-toggleable__content\"><pre>DecisionTreeClassifier()</pre></div></div></div></div></div>"
      ],
      "text/plain": [
       "DecisionTreeClassifier()"
      ]
     },
     "execution_count": 33,
     "metadata": {},
     "output_type": "execute_result"
    }
   ],
   "source": [
    "dec_model = DecisionTreeClassifier()\n",
    "dec_model.fit(X_ran_train,y_ran_train, )"
   ]
  },
  {
   "cell_type": "code",
   "execution_count": 34,
   "metadata": {},
   "outputs": [
    {
     "data": {
      "text/plain": [
       "0.510752688172043"
      ]
     },
     "execution_count": 34,
     "metadata": {},
     "output_type": "execute_result"
    }
   ],
   "source": [
    "y_dec_pred=dec_model.predict(X_ran_test)\n",
    "accuracy_dec = accuracy_score(y_ran_test,y_dec_pred)\n",
    "accuracy_dec"
   ]
  },
  {
   "cell_type": "code",
   "execution_count": 35,
   "metadata": {},
   "outputs": [
    {
     "name": "stderr",
     "output_type": "stream",
     "text": [
      "C:\\Users\\Shakil Mahmud\\AppData\\Local\\Temp\\ipykernel_9712\\1924585758.py:1: MatplotlibDeprecationWarning: The seaborn styles shipped by Matplotlib are deprecated since 3.6, as they no longer correspond to the styles shipped by seaborn. However, they will remain available as 'seaborn-v0_8-<style>'. Alternatively, directly use the seaborn API instead.\n",
      "  plt.style.use('seaborn')\n"
     ]
    },
    {
     "data": {
      "image/png": "[encoded data removed]",
      "text/plain": [
       "<Figure size 800x550 with 1 Axes>"
      ]
     },
     "metadata": {},
     "output_type": "display_data"
    }
   ],
   "source": [
    "plt.style.use('seaborn')\n",
    "plt.scatter(X_axis,round(y_test,0), color=\"deepskyblue\",label='Actual',marker='o')\n",
    "plt.scatter(X_axis,y_dec_pred,color='tomato', label='Predicted', marker='o')\n",
    "plt.xlabel('X values')\n",
    "plt.ylabel('Y Test & Predicted')\n",
    "plt.legend()\n",
    "plt.savefig(\"plot.png\")\n",
    "plt.show()"
   ]
  },
  {
   "cell_type": "code",
   "execution_count": 36,
   "metadata": {},
   "outputs": [
    {
     "name": "stderr",
     "output_type": "stream",
     "text": [
      "C:\\Users\\Shakil Mahmud\\AppData\\Local\\Temp\\ipykernel_9712\\1860977818.py:7: MatplotlibDeprecationWarning: The seaborn styles shipped by Matplotlib are deprecated since 3.6, as they no longer correspond to the styles shipped by seaborn. However, they will remain available as 'seaborn-v0_8-<style>'. Alternatively, directly use the seaborn API instead.\n",
      "  plt.style.use('seaborn')\n",
      "No artists with labels found to put in legend.  Note that artists whose label start with an underscore are ignored when legend() is called with no argument.\n"
     ]
    },
    {
     "name": "stdout",
     "output_type": "stream",
     "text": [
      "Model Name: Accuracy\n",
      "Linear Regression:  0.7935746252672882\n",
      "Random Forest: 0.6505376344086021\n",
      "Decision Tree:  0.510752688172043\n"
     ]
    },
    {
     "data": {
      "image/png": "[encoded data removed]",
      "text/plain": [
       "<Figure size 800x550 with 1 Axes>"
      ]
     },
     "metadata": {},
     "output_type": "display_data"
    }
   ],
   "source": [
    "print('Model Name:','Accuracy')\n",
    "model = ['Linear Regression','Random Forest','Decision Tree']\n",
    "print('Linear Regression: ',r2)\n",
    "print('Random Forest:',accuracy_ran)\n",
    "print('Decision Tree: ',accuracy_dec)\n",
    "\n",
    "plt.style.use('seaborn')\n",
    "plt.bar(model,[r2,accuracy_ran,accuracy_dec], color='deepskyblue',width=0.5)\n",
    "plt.xlabel('Accuracy of Models')\n",
    "plt.ylabel('Accuracy')\n",
    "plt.legend()\n",
    "plt.show()"
   ]
  },
  {
   "cell_type": "code",
   "execution_count": 37,
   "metadata": {},
   "outputs": [],
   "source": [
    "features=['per Capita','Social Support','Healthy Life','Freedom',\n",
    "        'Corruption','Generosity' ]"
   ]
  },
  {
   "cell_type": "markdown",
   "metadata": {},
   "source": [
    "**For Linear Regression**"
   ]
  },
  {
   "cell_type": "code",
   "execution_count": 38,
   "metadata": {},
   "outputs": [
    {
     "name": "stdout",
     "output_type": "stream",
     "text": [
      "per Capita : 0.8183994633852189\n",
      "Social Support : 0.8737120280922273\n",
      "Healthy Life : 1.2990189691175407\n",
      "Freedom : 1.328208654753663\n",
      "Corruption : 0.8387022794069416\n",
      "Generosity : 0.7832842878634759\n"
     ]
    }
   ],
   "source": [
    "for i,j in zip(features,reg_model.coef_):\n",
    "    print(f'{i} : {j}')"
   ]
  },
  {
   "cell_type": "markdown",
   "metadata": {},
   "source": [
    "**Visualization for Linear Regression**"
   ]
  },
  {
   "cell_type": "code",
   "execution_count": 39,
   "metadata": {},
   "outputs": [
    {
     "name": "stderr",
     "output_type": "stream",
     "text": [
      "C:\\Users\\Shakil Mahmud\\AppData\\Local\\Temp\\ipykernel_9712\\2251390723.py:1: MatplotlibDeprecationWarning: The seaborn styles shipped by Matplotlib are deprecated since 3.6, as they no longer correspond to the styles shipped by seaborn. However, they will remain available as 'seaborn-v0_8-<style>'. Alternatively, directly use the seaborn API instead.\n",
      "  plt.style.use('seaborn')\n",
      "No artists with labels found to put in legend.  Note that artists whose label start with an underscore are ignored when legend() is called with no argument.\n"
     ]
    },
    {
     "data": {
      "image/png": "[encoded data removed]",
      "text/plain": [
       "<Figure size 800x550 with 1 Axes>"
      ]
     },
     "metadata": {},
     "output_type": "display_data"
    }
   ],
   "source": [
    "plt.style.use('seaborn')\n",
    "plt.barh(features,reg_model.coef_, color='violet')\n",
    "plt.xlabel('Intensity of Linear Regression Model')\n",
    "plt.ylabel('Features')\n",
    "plt.legend()\n",
    "plt.show()"
   ]
  },
  {
   "cell_type": "markdown",
   "metadata": {},
   "source": [
    "**For Random Forest**"
   ]
  },
  {
   "cell_type": "code",
   "execution_count": 40,
   "metadata": {},
   "outputs": [
    {
     "name": "stdout",
     "output_type": "stream",
     "text": [
      "per Capita : 0.200856451543985\n",
      "Social Support : 0.1558840174902216\n",
      "Healthy Life : 0.20352488844866515\n",
      "Freedom : 0.15214148211691683\n",
      "Corruption : 0.1574488433192842\n",
      "Generosity : 0.1301443170809273\n"
     ]
    }
   ],
   "source": [
    "for i,j in zip(features,ran_model.feature_importances_):\n",
    "    print(f'{i} : {j}')"
   ]
  },
  {
   "cell_type": "markdown",
   "metadata": {},
   "source": [
    "**Visualization for Random Forest**"
   ]
  },
  {
   "cell_type": "code",
   "execution_count": 41,
   "metadata": {},
   "outputs": [
    {
     "name": "stderr",
     "output_type": "stream",
     "text": [
      "C:\\Users\\Shakil Mahmud\\AppData\\Local\\Temp\\ipykernel_9712\\256385247.py:1: MatplotlibDeprecationWarning: The seaborn styles shipped by Matplotlib are deprecated since 3.6, as they no longer correspond to the styles shipped by seaborn. However, they will remain available as 'seaborn-v0_8-<style>'. Alternatively, directly use the seaborn API instead.\n",
      "  plt.style.use('seaborn')\n",
      "No artists with labels found to put in legend.  Note that artists whose label start with an underscore are ignored when legend() is called with no argument.\n"
     ]
    },
    {
     "data": {
      "image/png": "[encoded data removed]",
      "text/plain": [
       "<Figure size 800x550 with 1 Axes>"
      ]
     },
     "metadata": {},
     "output_type": "display_data"
    }
   ],
   "source": [
    "plt.style.use('seaborn')\n",
    "plt.barh(features,ran_model.feature_importances_, color='tomato')\n",
    "plt.xlabel('Intensity of Random Forest Model')\n",
    "plt.ylabel('Features')\n",
    "plt.legend()\n",
    "plt.show()"
   ]
  },
  {
   "cell_type": "markdown",
   "metadata": {},
   "source": [
    "**For Decision Tree**"
   ]
  },
  {
   "cell_type": "code",
   "execution_count": 42,
   "metadata": {},
   "outputs": [
    {
     "name": "stdout",
     "output_type": "stream",
     "text": [
      "per Capita : 0.17129375668865537\n",
      "Social Support : 0.15295398891848191\n",
      "Healthy Life : 0.26156458614038275\n",
      "Freedom : 0.1088624246348459\n",
      "Corruption : 0.18378275088459997\n",
      "Generosity : 0.12154249273303419\n"
     ]
    }
   ],
   "source": [
    "for i,j in zip(features,dec_model.feature_importances_):\n",
    "    print(f'{i} : {j}')"
   ]
  },
  {
   "cell_type": "markdown",
   "metadata": {},
   "source": [
    "**Visualization for Decision Tree**"
   ]
  },
  {
   "cell_type": "code",
   "execution_count": 43,
   "metadata": {},
   "outputs": [
    {
     "name": "stderr",
     "output_type": "stream",
     "text": [
      "C:\\Users\\Shakil Mahmud\\AppData\\Local\\Temp\\ipykernel_9712\\3070072477.py:1: MatplotlibDeprecationWarning: The seaborn styles shipped by Matplotlib are deprecated since 3.6, as they no longer correspond to the styles shipped by seaborn. However, they will remain available as 'seaborn-v0_8-<style>'. Alternatively, directly use the seaborn API instead.\n",
      "  plt.style.use('seaborn')\n",
      "No artists with labels found to put in legend.  Note that artists whose label start with an underscore are ignored when legend() is called with no argument.\n"
     ]
    },
    {
     "data": {
      "image/png": "[encoded data removed]",
      "text/plain": [
       "<Figure size 800x550 with 1 Axes>"
      ]
     },
     "metadata": {},
     "output_type": "display_data"
    }
   ],
   "source": [
    "plt.style.use('seaborn')\n",
    "plt.barh(features,dec_model.feature_importances_, color='dodgerblue')\n",
    "plt.xlabel('Intensity of Decision Tree Model')\n",
    "plt.ylabel('Features')\n",
    "plt.legend()\n",
    "plt.show()"
   ]
  },
  {
   "cell_type": "markdown",
   "metadata": {},
   "source": [
    "**Comparitive line graph of models features intensity**"
   ]
  },
  {
   "cell_type": "code",
   "execution_count": 44,
   "metadata": {},
   "outputs": [
    {
     "name": "stderr",
     "output_type": "stream",
     "text": [
      "C:\\Users\\Shakil Mahmud\\AppData\\Local\\Temp\\ipykernel_9712\\4090653062.py:2: MatplotlibDeprecationWarning: The seaborn styles shipped by Matplotlib are deprecated since 3.6, as they no longer correspond to the styles shipped by seaborn. However, they will remain available as 'seaborn-v0_8-<style>'. Alternatively, directly use the seaborn API instead.\n",
      "  plt.style.use('seaborn')\n"
     ]
    },
    {
     "data": {
      "image/png": "[encoded data removed]",
      "text/plain": [
       "<Figure size 800x550 with 3 Axes>"
      ]
     },
     "metadata": {},
     "output_type": "display_data"
    }
   ],
   "source": [
    "fig, ax =plt.subplots(3)\n",
    "plt.style.use('seaborn')\n",
    "plt.subplots_adjust(hspace=0.8)\n",
    "ax[0].plot(features,reg_model.coef_, color='violet',marker='o')\n",
    "ax[0].set_xlabel('Linear Regression')\n",
    "ax[1].plot(features,ran_model.feature_importances_, color='tomato',marker='o')\n",
    "ax[1].set_xlabel('Random Forest')\n",
    "ax[2].plot(features,dec_model.feature_importances_, color='dodgerblue',marker='o')\n",
    "ax[2].set_xlabel('Decision Tree')\n",
    "plt.show()"
   ]
  },
  {
   "cell_type": "markdown",
   "metadata": {},
   "source": [
    "**Prediction**"
   ]
  },
  {
   "cell_type": "code",
   "execution_count": 45,
   "metadata": {},
   "outputs": [
    {
     "data": {
      "text/html": [
       "<div>\n",
       "<style scoped>\n",
       "    .dataframe tbody tr th:only-of-type {\n",
       "        vertical-align: middle;\n",
       "    }\n",
       "\n",
       "    .dataframe tbody tr th {\n",
       "        vertical-align: top;\n",
       "    }\n",
       "\n",
       "    .dataframe thead th {\n",
       "        text-align: right;\n",
       "    }\n",
       "</style>\n",
       "<table border=\"1\" class=\"dataframe\">\n",
       "  <thead>\n",
       "    <tr style=\"text-align: right;\">\n",
       "      <th></th>\n",
       "      <th>GDP per Capita</th>\n",
       "      <th>Social Support</th>\n",
       "      <th>Healthy Life Expectancy</th>\n",
       "      <th>Freedom</th>\n",
       "      <th>Government Corruption</th>\n",
       "      <th>Generosity</th>\n",
       "      <th>Happiness Actual</th>\n",
       "      <th>Happiness Predicted</th>\n",
       "    </tr>\n",
       "  </thead>\n",
       "  <tbody>\n",
       "    <tr>\n",
       "      <th>251</th>\n",
       "      <td>1.276070</td>\n",
       "      <td>0.943670</td>\n",
       "      <td>0.79363</td>\n",
       "      <td>0.447270</td>\n",
       "      <td>0.015210</td>\n",
       "      <td>0.116910</td>\n",
       "      <td>5.123</td>\n",
       "      <td>5.654254</td>\n",
       "    </tr>\n",
       "    <tr>\n",
       "      <th>415</th>\n",
       "      <td>1.054699</td>\n",
       "      <td>1.384789</td>\n",
       "      <td>0.18708</td>\n",
       "      <td>0.479247</td>\n",
       "      <td>0.072509</td>\n",
       "      <td>0.139362</td>\n",
       "      <td>4.829</td>\n",
       "      <td>5.178690</td>\n",
       "    </tr>\n",
       "    <tr>\n",
       "      <th>96</th>\n",
       "      <td>0.375450</td>\n",
       "      <td>1.041030</td>\n",
       "      <td>0.07612</td>\n",
       "      <td>0.317670</td>\n",
       "      <td>0.125040</td>\n",
       "      <td>0.163880</td>\n",
       "      <td>4.898</td>\n",
       "      <td>4.026962</td>\n",
       "    </tr>\n",
       "    <tr>\n",
       "      <th>298</th>\n",
       "      <td>0.847310</td>\n",
       "      <td>0.663660</td>\n",
       "      <td>0.04991</td>\n",
       "      <td>0.005890</td>\n",
       "      <td>0.084340</td>\n",
       "      <td>0.120710</td>\n",
       "      <td>3.866</td>\n",
       "      <td>3.567313</td>\n",
       "    </tr>\n",
       "    <tr>\n",
       "      <th>822</th>\n",
       "      <td>1.815000</td>\n",
       "      <td>0.909000</td>\n",
       "      <td>0.81900</td>\n",
       "      <td>0.448000</td>\n",
       "      <td>0.062000</td>\n",
       "      <td>0.123000</td>\n",
       "      <td>6.221</td>\n",
       "      <td>6.142961</td>\n",
       "    </tr>\n",
       "  </tbody>\n",
       "</table>\n",
       "</div>"
      ],
      "text/plain": [
       "     GDP per Capita  Social Support  Healthy Life Expectancy   Freedom  \\\n",
       "251        1.276070        0.943670                  0.79363  0.447270   \n",
       "415        1.054699        1.384789                  0.18708  0.479247   \n",
       "96         0.375450        1.041030                  0.07612  0.317670   \n",
       "298        0.847310        0.663660                  0.04991  0.005890   \n",
       "822        1.815000        0.909000                  0.81900  0.448000   \n",
       "\n",
       "     Government Corruption  Generosity  Happiness Actual  Happiness Predicted  \n",
       "251               0.015210    0.116910             5.123             5.654254  \n",
       "415               0.072509    0.139362             4.829             5.178690  \n",
       "96                0.125040    0.163880             4.898             4.026962  \n",
       "298               0.084340    0.120710             3.866             3.567313  \n",
       "822               0.062000    0.123000             6.221             6.142961  "
      ]
     },
     "execution_count": 45,
     "metadata": {},
     "output_type": "execute_result"
    }
   ],
   "source": [
    "X_test['Happiness Actual'] = y_test\n",
    "X_test['Happiness Predicted'] = y_pred\n",
    "X_test.tail(5)"
   ]
  },
  {
   "cell_type": "code",
   "execution_count": 46,
   "metadata": {},
   "outputs": [
    {
     "data": {
      "text/html": [
       "<div>\n",
       "<style scoped>\n",
       "    .dataframe tbody tr th:only-of-type {\n",
       "        vertical-align: middle;\n",
       "    }\n",
       "\n",
       "    .dataframe tbody tr th {\n",
       "        vertical-align: top;\n",
       "    }\n",
       "\n",
       "    .dataframe thead th {\n",
       "        text-align: right;\n",
       "    }\n",
       "</style>\n",
       "<table border=\"1\" class=\"dataframe\">\n",
       "  <thead>\n",
       "    <tr style=\"text-align: right;\">\n",
       "      <th></th>\n",
       "      <th>GDP per Capita</th>\n",
       "      <th>Social Support</th>\n",
       "      <th>Healthy Life Expectancy</th>\n",
       "      <th>Freedom</th>\n",
       "      <th>Government Corruption</th>\n",
       "      <th>Generosity</th>\n",
       "      <th>Happiness Actual</th>\n",
       "      <th>Happiness Predicted</th>\n",
       "    </tr>\n",
       "  </thead>\n",
       "  <tbody>\n",
       "    <tr>\n",
       "      <th>423</th>\n",
       "      <td>0.996193</td>\n",
       "      <td>0.803685</td>\n",
       "      <td>0.731160</td>\n",
       "      <td>0.381499</td>\n",
       "      <td>0.039864</td>\n",
       "      <td>0.201313</td>\n",
       "      <td>5.0</td>\n",
       "      <td>5.0</td>\n",
       "    </tr>\n",
       "    <tr>\n",
       "      <th>344</th>\n",
       "      <td>1.233748</td>\n",
       "      <td>1.373193</td>\n",
       "      <td>0.706156</td>\n",
       "      <td>0.550027</td>\n",
       "      <td>0.070984</td>\n",
       "      <td>0.210557</td>\n",
       "      <td>6.0</td>\n",
       "      <td>6.0</td>\n",
       "    </tr>\n",
       "    <tr>\n",
       "      <th>181</th>\n",
       "      <td>1.216700</td>\n",
       "      <td>0.905870</td>\n",
       "      <td>0.818830</td>\n",
       "      <td>0.377890</td>\n",
       "      <td>0.114510</td>\n",
       "      <td>0.315950</td>\n",
       "      <td>7.0</td>\n",
       "      <td>6.0</td>\n",
       "    </tr>\n",
       "    <tr>\n",
       "      <th>266</th>\n",
       "      <td>0.955300</td>\n",
       "      <td>0.501630</td>\n",
       "      <td>0.730070</td>\n",
       "      <td>0.318660</td>\n",
       "      <td>0.053010</td>\n",
       "      <td>0.168400</td>\n",
       "      <td>5.0</td>\n",
       "      <td>6.0</td>\n",
       "    </tr>\n",
       "    <tr>\n",
       "      <th>196</th>\n",
       "      <td>0.834540</td>\n",
       "      <td>0.871190</td>\n",
       "      <td>0.540390</td>\n",
       "      <td>0.503790</td>\n",
       "      <td>0.087010</td>\n",
       "      <td>0.288080</td>\n",
       "      <td>6.0</td>\n",
       "      <td>5.0</td>\n",
       "    </tr>\n",
       "  </tbody>\n",
       "</table>\n",
       "</div>"
      ],
      "text/plain": [
       "     GDP per Capita  Social Support  Healthy Life Expectancy   Freedom  \\\n",
       "423        0.996193        0.803685                 0.731160  0.381499   \n",
       "344        1.233748        1.373193                 0.706156  0.550027   \n",
       "181        1.216700        0.905870                 0.818830  0.377890   \n",
       "266        0.955300        0.501630                 0.730070  0.318660   \n",
       "196        0.834540        0.871190                 0.540390  0.503790   \n",
       "\n",
       "     Government Corruption  Generosity  Happiness Actual  Happiness Predicted  \n",
       "423               0.039864    0.201313               5.0                  5.0  \n",
       "344               0.070984    0.210557               6.0                  6.0  \n",
       "181               0.114510    0.315950               7.0                  6.0  \n",
       "266               0.053010    0.168400               5.0                  6.0  \n",
       "196               0.087010    0.288080               6.0                  5.0  "
      ]
     },
     "execution_count": 46,
     "metadata": {},
     "output_type": "execute_result"
    }
   ],
   "source": [
    "X_ran_test['Happiness Actual'] = y_ran_test\n",
    "X_ran_test['Happiness Predicted'] = y_dec_pred\n",
    "X_ran_test.head(5)"
   ]
  },
  {
   "cell_type": "code",
   "execution_count": 47,
   "metadata": {},
   "outputs": [
    {
     "data": {
      "text/html": [
       "<div>\n",
       "<style scoped>\n",
       "    .dataframe tbody tr th:only-of-type {\n",
       "        vertical-align: middle;\n",
       "    }\n",
       "\n",
       "    .dataframe tbody tr th {\n",
       "        vertical-align: top;\n",
       "    }\n",
       "\n",
       "    .dataframe thead th {\n",
       "        text-align: right;\n",
       "    }\n",
       "</style>\n",
       "<table border=\"1\" class=\"dataframe\">\n",
       "  <thead>\n",
       "    <tr style=\"text-align: right;\">\n",
       "      <th></th>\n",
       "      <th>GDP per Capita</th>\n",
       "      <th>Social Support</th>\n",
       "      <th>Healthy Life Expectancy</th>\n",
       "      <th>Freedom</th>\n",
       "      <th>Government Corruption</th>\n",
       "      <th>Generosity</th>\n",
       "      <th>Happiness Actual</th>\n",
       "      <th>Happiness Predicted</th>\n",
       "    </tr>\n",
       "  </thead>\n",
       "  <tbody>\n",
       "    <tr>\n",
       "      <th>342</th>\n",
       "      <td>1.21756</td>\n",
       "      <td>1.412228</td>\n",
       "      <td>0.719217</td>\n",
       "      <td>0.579392</td>\n",
       "      <td>0.178062</td>\n",
       "      <td>0.175097</td>\n",
       "      <td>6.0</td>\n",
       "      <td>6.0</td>\n",
       "    </tr>\n",
       "    <tr>\n",
       "      <th>292</th>\n",
       "      <td>0.31292</td>\n",
       "      <td>0.863330</td>\n",
       "      <td>0.163470</td>\n",
       "      <td>0.275440</td>\n",
       "      <td>0.136470</td>\n",
       "      <td>0.210640</td>\n",
       "      <td>4.0</td>\n",
       "      <td>4.0</td>\n",
       "    </tr>\n",
       "    <tr>\n",
       "      <th>90</th>\n",
       "      <td>0.18847</td>\n",
       "      <td>0.951520</td>\n",
       "      <td>0.438730</td>\n",
       "      <td>0.465820</td>\n",
       "      <td>0.399280</td>\n",
       "      <td>0.503180</td>\n",
       "      <td>5.0</td>\n",
       "      <td>5.0</td>\n",
       "    </tr>\n",
       "    <tr>\n",
       "      <th>538</th>\n",
       "      <td>1.17100</td>\n",
       "      <td>1.401000</td>\n",
       "      <td>0.732000</td>\n",
       "      <td>0.259000</td>\n",
       "      <td>0.022000</td>\n",
       "      <td>0.061000</td>\n",
       "      <td>6.0</td>\n",
       "      <td>6.0</td>\n",
       "    </tr>\n",
       "    <tr>\n",
       "      <th>629</th>\n",
       "      <td>1.38000</td>\n",
       "      <td>1.624000</td>\n",
       "      <td>1.026000</td>\n",
       "      <td>0.591000</td>\n",
       "      <td>0.118000</td>\n",
       "      <td>0.354000</td>\n",
       "      <td>7.0</td>\n",
       "      <td>7.0</td>\n",
       "    </tr>\n",
       "  </tbody>\n",
       "</table>\n",
       "</div>"
      ],
      "text/plain": [
       "     GDP per Capita  Social Support  Healthy Life Expectancy   Freedom  \\\n",
       "342         1.21756        1.412228                 0.719217  0.579392   \n",
       "292         0.31292        0.863330                 0.163470  0.275440   \n",
       "90          0.18847        0.951520                 0.438730  0.465820   \n",
       "538         1.17100        1.401000                 0.732000  0.259000   \n",
       "629         1.38000        1.624000                 1.026000  0.591000   \n",
       "\n",
       "     Government Corruption  Generosity  Happiness Actual  Happiness Predicted  \n",
       "342               0.178062    0.175097               6.0                  6.0  \n",
       "292               0.136470    0.210640               4.0                  4.0  \n",
       "90                0.399280    0.503180               5.0                  5.0  \n",
       "538               0.022000    0.061000               6.0                  6.0  \n",
       "629               0.118000    0.354000               7.0                  7.0  "
      ]
     },
     "execution_count": 47,
     "metadata": {},
     "output_type": "execute_result"
    }
   ],
   "source": [
    "X_ran_test['Happiness Actual'] = y_ran_test\n",
    "X_ran_test['Happiness Predicted'] = y_ran_pred\n",
    "X_ran_test.tail(5)"
   ]
  }
 ],
 "metadata": {
  "kernelspec": {
   "display_name": "Python 3",
   "language": "python",
   "name": "python3"
  },
  "language_info": {
   "codemirror_mode": {
    "name": "ipython",
    "version": 3
   },
   "file_extension": ".py",
   "mimetype": "text/x-python",
   "name": "python",
   "nbconvert_exporter": "python",
   "pygments_lexer": "ipython3",
   "version": "3.11.4"
  },
  "orig_nbformat": 4
 },
 "nbformat": 4,
 "nbformat_minor": 2
}
